{
 "cells": [
  {
   "cell_type": "code",
   "execution_count": 1,
   "metadata": {},
   "outputs": [
    {
     "name": "stdout",
     "output_type": "stream",
     "text": [
      "[30, 70, 20]\n",
      "[90, 40]\n",
      "[10, 50]\n"
     ]
    }
   ],
   "source": [
    "arr = [10,50,30,70,20,90,40]\n",
    "\n",
    "print(arr[2:5])\n",
    "print(arr[5:])\n",
    "print(arr[:2])\n"
   ]
  },
  {
   "cell_type": "code",
   "execution_count": 4,
   "metadata": {},
   "outputs": [
    {
     "name": "stdout",
     "output_type": "stream",
     "text": [
      "4168\n"
     ]
    }
   ],
   "source": [
    "차량번호 = '48노4168' \n",
    "print(차량번호[3:])"
   ]
  },
  {
   "cell_type": "code",
   "execution_count": 12,
   "metadata": {},
   "outputs": [
    {
     "name": "stdout",
     "output_type": "stream",
     "text": [
      "0105547****\n"
     ]
    }
   ],
   "source": [
    "# 전화번호를 입력\n",
    "#010-1234-1234\n",
    "number=input()\n",
    "print(number[:-4]+'****')"
   ]
  }
 ],
 "metadata": {
  "kernelspec": {
   "display_name": "Python 3",
   "language": "python",
   "name": "python3"
  },
  "language_info": {
   "codemirror_mode": {
    "name": "ipython",
    "version": 3
   },
   "file_extension": ".py",
   "mimetype": "text/x-python",
   "name": "python",
   "nbconvert_exporter": "python",
   "pygments_lexer": "ipython3",
   "version": "3.9.2"
  }
 },
 "nbformat": 4,
 "nbformat_minor": 2
}
