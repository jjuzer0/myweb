{
 "cells": [
  {
   "cell_type": "code",
   "execution_count": null,
   "metadata": {},
   "outputs": [],
   "source": [
    "#환율계산기\n",
    "#1달러= 1341원\n",
    "#환전할 달러를 입력하면 환전금액 출력\n"
   ]
  },
  {
   "cell_type": "code",
   "execution_count": 1,
   "metadata": {},
   "outputs": [
    {
     "name": "stdout",
     "output_type": "stream",
     "text": [
      "13410\n"
     ]
    }
   ],
   "source": [
    "a= int(input())\n",
    "print(a*1341)"
   ]
  },
  {
   "cell_type": "code",
   "execution_count": 11,
   "metadata": {},
   "outputs": [
    {
     "name": "stdout",
     "output_type": "stream",
     "text": [
      "70000 원\n"
     ]
    }
   ],
   "source": [
    "a=input()\n",
    "b=int(input())\n",
    "if a=='달러':print(b*1341,'원')\n",
    "\n",
    "elif a=='유로':print(b*1478,'원')\n",
    "\n",
    "elif  a=='파운드':print(b*1750,'원')\n",
    "\n",
    "\n"
   ]
  },
  {
   "cell_type": "code",
   "execution_count": null,
   "metadata": {},
   "outputs": [],
   "source": [
    "a=int(input('숫자 두개를  입력하세요'))\n",
    "\n",
    "b=int(input())\n",
    "\n",
    "if a>b:\n",
    "    print(a)\n",
    "else:\n",
    "    print(b)"
   ]
  },
  {
   "cell_type": "code",
   "execution_count": 21,
   "metadata": {},
   "outputs": [
    {
     "ename": "SyntaxError",
     "evalue": "invalid syntax (2889081939.py, line 10)",
     "output_type": "error",
     "traceback": [
      "\u001b[1;36m  Cell \u001b[1;32mIn[21], line 10\u001b[1;36m\u001b[0m\n\u001b[1;33m    else c>a and c>b:\u001b[0m\n\u001b[1;37m         ^\u001b[0m\n\u001b[1;31mSyntaxError\u001b[0m\u001b[1;31m:\u001b[0m invalid syntax\n"
     ]
    }
   ],
   "source": [
    "a=int(input('숫자 3개를  입력하세요'))\n",
    "\n",
    "b=int(input())\n",
    "c=int(input())\n",
    "\n",
    "if a>b and a>c :\n",
    "    print(a)\n",
    "elif b>a and b>c :\n",
    "    print(b)\n",
    "else c>a and c>b:\n",
    "    print(c)\n",
    "\n"
   ]
  },
  {
   "cell_type": "code",
   "execution_count": 43,
   "metadata": {},
   "outputs": [
    {
     "name": "stdout",
     "output_type": "stream",
     "text": [
      "남자\n"
     ]
    }
   ],
   "source": [
    "주민등록번호= input()\n",
    "a=주민등록번호[-7]\n",
    "if a=='3' or a=='1':\n",
    "    print('남자')\n",
    "elif a=='4' or a=='2':\n",
    "    print('여자')"
   ]
  },
  {
   "cell_type": "code",
   "execution_count": 50,
   "metadata": {},
   "outputs": [
    {
     "name": "stdout",
     "output_type": "stream",
     "text": [
      "대구아님\n"
     ]
    }
   ],
   "source": [
    "주민등록번호= input()\n",
    "a=주민등록번호[-6:-5]\n",
    "if a=='67' or a=='68'or a=='69'or a=='76':\n",
    "    print('대구')\n",
    "else:\n",
    "    print('대구아님')"
   ]
  },
  {
   "cell_type": "code",
   "execution_count": 77,
   "metadata": {},
   "outputs": [
    {
     "name": "stdout",
     "output_type": "stream",
     "text": [
      "이상없음\n"
     ]
    }
   ],
   "source": [
    "num= input()\n",
    "sum=int(num[0])*2+int(num[1])*3+int(num[2])*4+int(num[3])*5+int(num[4])*6+int(num[5])*7+int(num[7])*8+int(num[8])*9+int(num[9])*2+int(num[10])*3+int(num[11])*4+int(num[12])*5\n",
    "나머지= sum%11\n",
    "result = (11-나머지)%10\n",
    "if result ==int(num[-1]):\n",
    "    print('이상없음')\n",
    "else:\n",
    "    print('오류발생')"
   ]
  },
  {
   "cell_type": "code",
   "execution_count": 82,
   "metadata": {},
   "outputs": [
    {
     "name": "stdout",
     "output_type": "stream",
     "text": [
      "오류발생\n"
     ]
    }
   ],
   "source": [
    "num= input()\n",
    "sum=0\n",
    "key=2\n",
    "for i in num[:-1]:\n",
    "    if key==10:\n",
    "       key=2\n",
    "    if i!= '-':\n",
    "     sum= sum+(int(i)*key)\n",
    "     key= key+1\n",
    "result = (11-나머지)%10\n",
    "if result ==int(num[-1]):\n",
    "    print('이상없음')\n",
    "else:\n",
    "    print('오류발생')"
   ]
  },
  {
   "cell_type": "code",
   "execution_count": null,
   "metadata": {},
   "outputs": [],
   "source": [
    "for i in range(1,20,2)\n",
    "    print(i,end='')"
   ]
  },
  {
   "cell_type": "code",
   "execution_count": 4,
   "metadata": {},
   "outputs": [
    {
     "name": "stdout",
     "output_type": "stream",
     "text": [
      "80\n"
     ]
    }
   ],
   "source": [
    "a=[10,60,50,30,80,20,40]\n",
    "max=a[0]\n",
    "for v in a:\n",
    "    if max<v:\n",
    "        max=v\n",
    "print(max)"
   ]
  },
  {
   "cell_type": "code",
   "execution_count": 3,
   "metadata": {},
   "outputs": [
    {
     "name": "stdout",
     "output_type": "stream",
     "text": [
      "10\n"
     ]
    }
   ],
   "source": [
    "#가장 작은 값찾기\n",
    "a=[10,60,50,30,80,20,40]\n",
    "min=a[0]\n",
    "for v in a:\n",
    "    if min>v:\n",
    "        min=v\n",
    "print(min)"
   ]
  },
  {
   "cell_type": "code",
   "execution_count": 6,
   "metadata": {},
   "outputs": [
    {
     "name": "stdout",
     "output_type": "stream",
     "text": [
      "80\n"
     ]
    }
   ],
   "source": [
    "a=[10,60,50,30,80,20,40]\n",
    "a.sort()\n",
    "print(a[-1])"
   ]
  },
  {
   "cell_type": "code",
   "execution_count": 8,
   "metadata": {},
   "outputs": [
    {
     "name": "stdout",
     "output_type": "stream",
     "text": [
      "[80, 60, 50, 40, 30, 20, 10]\n"
     ]
    }
   ],
   "source": [
    "a=[10,60,50,30,80,20,40]\n",
    "a.sort(reverse=True)\n",
    "print(a)"
   ]
  },
  {
   "cell_type": "code",
   "execution_count": 11,
   "metadata": {},
   "outputs": [
    {
     "name": "stdout",
     "output_type": "stream",
     "text": [
      "60\n"
     ]
    }
   ],
   "source": [
    "a=10\n",
    "b=12\n",
    "i=1\n",
    "j=1\n",
    "while True:\n",
    "    if a*i == b*j:\n",
    "        print(a*i)\n",
    "        break\n",
    "    elif a*i < b*j:\n",
    "        i+=1\n",
    "    else:\n",
    "        j+=1\n"
   ]
  },
  {
   "cell_type": "code",
   "execution_count": 12,
   "metadata": {},
   "outputs": [
    {
     "name": "stdout",
     "output_type": "stream",
     "text": [
      "60\n"
     ]
    }
   ],
   "source": [
    "a=10\n",
    "b=12\n",
    "if a>b:\n",
    "    max=a\n",
    "    min=b\n",
    "else:\n",
    "    max=b\n",
    "    min=a\n",
    "for v in range(max,min*max+1,max):\n",
    "    if v%min==0:\n",
    "        print(v)"
   ]
  },
  {
   "cell_type": "code",
   "execution_count": 15,
   "metadata": {},
   "outputs": [
    {
     "name": "stdout",
     "output_type": "stream",
     "text": [
      "1\n",
      "2\n",
      "5\n",
      "10\n"
     ]
    }
   ],
   "source": [
    "a=10\n",
    "\n",
    "for i in range(1,a+1):\n",
    "    if a%i==0:\n",
    "     print(i)"
   ]
  },
  {
   "cell_type": "code",
   "execution_count": 26,
   "metadata": {},
   "outputs": [
    {
     "name": "stdout",
     "output_type": "stream",
     "text": [
      "2\n"
     ]
    }
   ],
   "source": [
    "a=10\n",
    "b=12\n",
    "\n",
    "for v in range(b,0,-1):\n",
    "    if a%v==0 and b%v==0:\n",
    "        print(v)\n",
    "        break"
   ]
  },
  {
   "cell_type": "code",
   "execution_count": 29,
   "metadata": {},
   "outputs": [
    {
     "name": "stdout",
     "output_type": "stream",
     "text": [
      "139\n"
     ]
    }
   ],
   "source": [
    "\n",
    "max=1112\n",
    "min=695\n",
    "while min>0:\n",
    "    tmp = max%min\n",
    "    max=min\n",
    "    min=tmp\n",
    "print(max)"
   ]
  },
  {
   "cell_type": "code",
   "execution_count": 31,
   "metadata": {},
   "outputs": [
    {
     "name": "stdout",
     "output_type": "stream",
     "text": [
      "139\n",
      "60\n"
     ]
    }
   ],
   "source": [
    "import math\n",
    "print(math.gcd(1112,695))\n",
    "print(math.lcm(12,10))"
   ]
  },
  {
   "cell_type": "code",
   "execution_count": null,
   "metadata": {},
   "outputs": [],
   "source": [
    "from sympy import integral, symbol"
   ]
  }
 ],
 "metadata": {
  "kernelspec": {
   "display_name": "Python 3",
   "language": "python",
   "name": "python3"
  },
  "language_info": {
   "codemirror_mode": {
    "name": "ipython",
    "version": 3
   },
   "file_extension": ".py",
   "mimetype": "text/x-python",
   "name": "python",
   "nbconvert_exporter": "python",
   "pygments_lexer": "ipython3",
   "version": "3.9.2"
  }
 },
 "nbformat": 4,
 "nbformat_minor": 2
}
