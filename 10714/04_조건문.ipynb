{
 "cells": [
  {
   "cell_type": "code",
   "execution_count": 3,
   "metadata": {},
   "outputs": [
    {
     "name": "stdout",
     "output_type": "stream",
     "text": [
      "안녕\n",
      "하세\n",
      "요\n"
     ]
    }
   ],
   "source": [
    "#조건문\n",
    "if True:\n",
    "    print('안녕')\n",
    "    print('하세')\n",
    "print('요')"
   ]
  },
  {
   "cell_type": "code",
   "execution_count": 4,
   "metadata": {},
   "outputs": [
    {
     "name": "stdout",
     "output_type": "stream",
     "text": [
      "요\n"
     ]
    }
   ],
   "source": [
    "if False:\n",
    "    \n",
    "    print('안녕')\n",
    "    print('하세')\n",
    "print('요')"
   ]
  },
  {
   "cell_type": "code",
   "execution_count": 13,
   "metadata": {},
   "outputs": [
    {
     "name": "stdout",
     "output_type": "stream",
     "text": [
      "a\n",
      "c\n"
     ]
    }
   ],
   "source": [
    "if True:\n",
    "    print('a')\n",
    "else:\n",
    "    print('b')\n",
    "print('c')"
   ]
  },
  {
   "cell_type": "code",
   "execution_count": 27,
   "metadata": {},
   "outputs": [
    {
     "name": "stdout",
     "output_type": "stream",
     "text": [
      "17\n"
     ]
    }
   ],
   "source": [
    "\n",
    "a=int(input('숫자 두개를  입력하세요'))\n",
    "\n",
    "b=int(input())\n",
    "\n",
    "if a>b:\n",
    "    print(a)\n",
    "else:\n",
    "    print(b)"
   ]
  },
  {
   "cell_type": "code",
   "execution_count": 39,
   "metadata": {},
   "outputs": [
    {
     "name": "stdout",
     "output_type": "stream",
     "text": [
      "잘못 입력\n"
     ]
    }
   ],
   "source": [
    "n=int(input())\n",
    "if 90<=n<=100:\n",
    "    print('a')\n",
    "elif 80<=n<=90:\n",
    "    print('b')\n",
    "elif 70<=n<=80:\n",
    "    print('c')\n",
    "elif 60<=n<=70:\n",
    "    print('d')\n",
    "elif 0<=n<=60:\n",
    "    print('f')\n",
    "else:\n",
    "    print('잘못 입력')\n"
   ]
  },
  {
   "cell_type": "code",
   "execution_count": null,
   "metadata": {},
   "outputs": [],
   "source": [
    "n=int(input())\n",
    "if 90<=n<=100:\n",
    "    print('a')\n",
    "elif 80<=n<=90:\n",
    "    print('b')\n",
    "elif 70<=n<=80:\n",
    "    print('c')\n",
    "elif 60<=n<=70:\n",
    "    print('d')\n",
    "elif 0<=n<=60:\n",
    "    print('f')\n",
    "else:\n",
    "    print('잘못 입력')\n"
   ]
  }
 ],
 "metadata": {
  "kernelspec": {
   "display_name": "Python 3",
   "language": "python",
   "name": "python3"
  },
  "language_info": {
   "codemirror_mode": {
    "name": "ipython",
    "version": 3
   },
   "file_extension": ".py",
   "mimetype": "text/x-python",
   "name": "python",
   "nbconvert_exporter": "python",
   "pygments_lexer": "ipython3",
   "version": "3.9.2"
  }
 },
 "nbformat": 4,
 "nbformat_minor": 2
}
